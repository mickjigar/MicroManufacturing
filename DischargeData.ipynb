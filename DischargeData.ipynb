{
 "cells": [
  {
   "cell_type": "code",
   "execution_count": 1,
   "metadata": {
    "collapsed": true
   },
   "outputs": [],
   "source": [
    "import pandas as pd\n",
    "import numpy as np\n",
    "import glob\n",
    "import os\n",
    "import matplotlib.pyplot as plt\n",
    "import matplotlib.ticker as mtick\n",
    "import collections"
   ]
  },
  {
   "cell_type": "markdown",
   "metadata": {},
   "source": [
    "# Import Discharge & Area Data"
   ]
  },
  {
   "cell_type": "code",
   "execution_count": 9,
   "metadata": {},
   "outputs": [],
   "source": [
    "#Discharge Data\n",
    "\n",
    "path = r'C:\\Users\\jbpat\\Documents\\ME451b\\ME451Research\\Tests'\n",
    "allFiles = glob.glob(os.path.join(path,\"*.csv\"))\n",
    "\n",
    "dfdict={}\n",
    "\n",
    "for file_ in allFiles:\n",
    "    #type(file_), dict_keys([])\n",
    "    filen = str(file_)\n",
    "    #print(len(filen))\n",
    "    #print(filen[45:-4])\n",
    "    \n",
    "    dfdict[filen[45:-4]] = (pd.read_csv(file_, sep=',', header=None, usecols=[3,4,10,16,22], \\\n",
    "                                        names=['Time(s)', 'CH1(V)', 'CH2(V)', 'CH3(V)','CH4(V)'], \\\n",
    "                                        na_values =\".\")).dropna()\n",
    "    \n",
    "\n",
    "#Area Data\n",
    "directory = \"C:/Users/jbpat/Documents/ME451b/ME451Research/\"\n",
    "file = \"DOETests.xlsx\"\n",
    "df_DOE = pd.read_excel(\"%s%s\" % (directory, file))\n",
    "df_area = df_DOE[['Test','Trial','Rinner (micron)','Ainner (mm^2)','Router (micron)','Aouter (mm^2)']]\n"
   ]
  },
  {
   "cell_type": "markdown",
   "metadata": {},
   "source": [
    "# Dicharge Analysis"
   ]
  },
  {
   "cell_type": "markdown",
   "metadata": {},
   "source": [
    "    1. Calculate Voltage, Current, Power, Energy\n",
    "    2. Plot Power"
   ]
  },
  {
   "cell_type": "code",
   "execution_count": 10,
   "metadata": {},
   "outputs": [
    {
     "ename": "KeyError",
     "evalue": "'Test1.1'",
     "output_type": "error",
     "traceback": [
      "\u001b[1;31m---------------------------------------------------------------------------\u001b[0m",
      "\u001b[1;31mKeyError\u001b[0m                                  Traceback (most recent call last)",
      "\u001b[1;32m<ipython-input-10-9e5e4567acbf>\u001b[0m in \u001b[0;36m<module>\u001b[1;34m()\u001b[0m\n\u001b[0;32m     17\u001b[0m \u001b[1;33m\u001b[0m\u001b[0m\n\u001b[0;32m     18\u001b[0m         \u001b[1;31m#Calculate V, I, P\u001b[0m\u001b[1;33m\u001b[0m\u001b[1;33m\u001b[0m\u001b[0m\n\u001b[1;32m---> 19\u001b[1;33m         \u001b[0mdfdict\u001b[0m\u001b[1;33m[\u001b[0m\u001b[0mkey\u001b[0m\u001b[1;33m]\u001b[0m\u001b[1;33m[\u001b[0m\u001b[1;34m'Voltage(V)'\u001b[0m\u001b[1;33m]\u001b[0m \u001b[1;33m=\u001b[0m \u001b[0mdfdict\u001b[0m\u001b[1;33m[\u001b[0m\u001b[0mkey\u001b[0m\u001b[1;33m]\u001b[0m\u001b[1;33m[\u001b[0m\u001b[1;34m'CH3(V)'\u001b[0m\u001b[1;33m]\u001b[0m \u001b[1;33m-\u001b[0m \u001b[0mdfdict\u001b[0m\u001b[1;33m[\u001b[0m\u001b[0mkey\u001b[0m\u001b[1;33m]\u001b[0m\u001b[1;33m[\u001b[0m\u001b[1;34m'CH4(V)'\u001b[0m\u001b[1;33m]\u001b[0m\u001b[1;33m\u001b[0m\u001b[0m\n\u001b[0m\u001b[0;32m     20\u001b[0m         \u001b[0mdfdict\u001b[0m\u001b[1;33m[\u001b[0m\u001b[0mkey\u001b[0m\u001b[1;33m]\u001b[0m\u001b[1;33m[\u001b[0m\u001b[1;34m'Current(A)'\u001b[0m\u001b[1;33m]\u001b[0m \u001b[1;33m=\u001b[0m \u001b[1;33m(\u001b[0m\u001b[0mdfdict\u001b[0m\u001b[1;33m[\u001b[0m\u001b[0mkey\u001b[0m\u001b[1;33m]\u001b[0m\u001b[1;33m[\u001b[0m\u001b[1;34m'CH2(V)'\u001b[0m\u001b[1;33m]\u001b[0m \u001b[1;33m-\u001b[0m \u001b[0mdfdict\u001b[0m\u001b[1;33m[\u001b[0m\u001b[0mkey\u001b[0m\u001b[1;33m]\u001b[0m\u001b[1;33m[\u001b[0m\u001b[1;34m'CH3(V)'\u001b[0m\u001b[1;33m]\u001b[0m\u001b[1;33m)\u001b[0m\u001b[1;33m/\u001b[0m\u001b[1;36m0.6\u001b[0m\u001b[1;33m\u001b[0m\u001b[0m\n\u001b[0;32m     21\u001b[0m         \u001b[0mdfdict\u001b[0m\u001b[1;33m[\u001b[0m\u001b[0mkey\u001b[0m\u001b[1;33m]\u001b[0m\u001b[1;33m[\u001b[0m\u001b[1;34m'Power(W)'\u001b[0m\u001b[1;33m]\u001b[0m \u001b[1;33m=\u001b[0m \u001b[0mdfdict\u001b[0m\u001b[1;33m[\u001b[0m\u001b[0mkey\u001b[0m\u001b[1;33m]\u001b[0m\u001b[1;33m[\u001b[0m\u001b[1;34m'Voltage(V)'\u001b[0m\u001b[1;33m]\u001b[0m \u001b[1;33m*\u001b[0m \u001b[0mdfdict\u001b[0m\u001b[1;33m[\u001b[0m\u001b[0mkey\u001b[0m\u001b[1;33m]\u001b[0m\u001b[1;33m[\u001b[0m\u001b[1;34m'Current(A)'\u001b[0m\u001b[1;33m]\u001b[0m\u001b[1;33m\u001b[0m\u001b[0m\n",
      "\u001b[1;31mKeyError\u001b[0m: 'Test1.1'"
     ]
    }
   ],
   "source": [
    "stat_dict = {} #dictionary of tests having dictionaries of trials of dataframes that hold stats about power\n",
    "dfdict_stat = {}  #this will eventually be a dataframe\n",
    "\n",
    "nrg_temp = np.zeros((4,6)) #array to store discharge energy for each test and trials\n",
    "#df_nrg = {} #this will eventuall be a dataframe\n",
    "\n",
    "for test in np.arange(1,4):\n",
    "   \n",
    "    plt.figure(figsize=(20,10))\n",
    "    leglbl = []\n",
    "    \n",
    "    stat_dict[test] = {}\n",
    "    #nrg[test] = {}\n",
    "    \n",
    "    for trial in np.arange(1,6):\n",
    "        key = \"Test\"+str(test)+\".\"+str(trial)\n",
    "        \n",
    "        #Calculate V, I, P\n",
    "        dfdict[key]['Voltage(V)'] = dfdict[key]['CH3(V)'] - dfdict[key]['CH4(V)']\n",
    "        dfdict[key]['Current(A)'] = (dfdict[key]['CH2(V)'] - dfdict[key]['CH3(V)'])/0.6\n",
    "        dfdict[key]['Power(W)'] = dfdict[key]['Voltage(V)'] * dfdict[key]['Current(A)']\n",
    "        \n",
    "        #Filter data\n",
    "        fltd = dfdict[key][\n",
    "    \n",
    "                (dfdict[key]['CH1(V)']  > 0) & (dfdict[key]['CH1(V)'] < 10) &\n",
    "                (dfdict[key]['Power(W)']  > 0) & (dfdict[key]['Time(s)']  > 0) \n",
    "\n",
    "               ][['Time(s)','Power(W)']]\n",
    "        \n",
    "        #calculate energy\n",
    "        nrg_temp[test,trial] = np.trapz(fltd['Power(W)'].values, fltd['Time(s)'].values)*1000 #energy in millliJoules\n",
    "        \n",
    "        #Generate summary (Power(W)) of trials, stored in dictionary 'stat_dict' within 'sub'-dictionary 'key'\n",
    "        stat_dict[test][trial] = (fltd['Power(W)'].describe()).drop(['25%','50%','75%'])\n",
    "        \n",
    "        #Make plots\n",
    "        plt.axes([0.1, 0.1, 0.8, 0.8])\n",
    "        plt.plot(fltd['Time(s)'],fltd['Power(W)'], linewidth = 1)\n",
    "        plt.gca().xaxis.set_major_formatter(mtick.FormatStrFormatter('%2.1e'))\n",
    "        plt.xlabel('Time(s)',fontsize=20)\n",
    "        plt.ylabel('Power(W)',fontsize=20)\n",
    "        leglbl.append(\"Trial:\"+str(trial))\n",
    "        plt.legend(leglbl)\n",
    "        plt.title(\"Test \" +str(test),fontsize=20)\n",
    "        plt.axes([0.2, 0.4, 0.4, 0.4])\n",
    "        plt.plot(fltd['Time(s)'], fltd['Power(W)'], linewidth = 0.5)\n",
    "        plt.xlim(0, fltd['Time(s)'].max()*0.8)\n",
    "        plt.ylim(0, fltd['Power(W)'].max()*0.25)\n",
    "        \n",
    "        \n",
    "        \n",
    "    \n",
    "    #Make dataframe of stats summary \n",
    "    dfdict_stat[test] = pd.DataFrame(stat_dict[test])                    \n",
    "    dfdict_stat[test]['Trials Average'] = dfdict_stat[test].mean(axis=1) \n",
    "    \n",
    "    \n",
    "    plt.gcf().savefig('{}.png'.format(\"Test \" +str(test)))\n",
    "\n",
    "nrg = nrg_temp[1:4,1:6]\n",
    "nrg_df = pd.DataFrame(nrg, index= ['Test '+str(i) for i in range(1,4)], \n",
    "                      columns = ['Trial ' + str(j) for j in range(1,6)] )\n",
    "\n",
    "nrg_df['AvgEgy(mJ)'] = nrg_df.mean(axis=1)\n",
    "nrg_df['Std Dev'] = nrg_df.std(axis=1)\n",
    "plt.figure()\n",
    "\n",
    "nrg_df['AvgEgy(mJ)'].plot(kind = 'bar')\n",
    "plt.show()"
   ]
  },
  {
   "cell_type": "markdown",
   "metadata": {},
   "source": [
    "    3. Energy "
   ]
  },
  {
   "cell_type": "code",
   "execution_count": 50,
   "metadata": {},
   "outputs": [
    {
     "data": {
      "text/html": [
       "<div>\n",
       "<style>\n",
       "    .dataframe thead tr:only-child th {\n",
       "        text-align: right;\n",
       "    }\n",
       "\n",
       "    .dataframe thead th {\n",
       "        text-align: left;\n",
       "    }\n",
       "\n",
       "    .dataframe tbody tr th {\n",
       "        vertical-align: top;\n",
       "    }\n",
       "</style>\n",
       "<table border=\"1\" class=\"dataframe\">\n",
       "  <thead>\n",
       "    <tr style=\"text-align: right;\">\n",
       "      <th></th>\n",
       "      <th>AvgEgy(mJ)</th>\n",
       "      <th>Std Dev</th>\n",
       "    </tr>\n",
       "  </thead>\n",
       "  <tbody>\n",
       "    <tr>\n",
       "      <th>Test 1</th>\n",
       "      <td>10.720014</td>\n",
       "      <td>3.950930</td>\n",
       "    </tr>\n",
       "    <tr>\n",
       "      <th>Test 2</th>\n",
       "      <td>11.296267</td>\n",
       "      <td>3.955306</td>\n",
       "    </tr>\n",
       "    <tr>\n",
       "      <th>Test 3</th>\n",
       "      <td>18.837605</td>\n",
       "      <td>6.711509</td>\n",
       "    </tr>\n",
       "  </tbody>\n",
       "</table>\n",
       "</div>"
      ],
      "text/plain": [
       "        AvgEgy(mJ)   Std Dev\n",
       "Test 1   10.720014  3.950930\n",
       "Test 2   11.296267  3.955306\n",
       "Test 3   18.837605  6.711509"
      ]
     },
     "execution_count": 50,
     "metadata": {},
     "output_type": "execute_result"
    }
   ],
   "source": [
    "plt.figure()\n",
    "nrg_df\n",
    "nrg_df2 = nrg_df[['AvgEgy(mJ)','Std Dev']]\n",
    "nrg_df2"
   ]
  },
  {
   "cell_type": "markdown",
   "metadata": {},
   "source": [
    "    4. Area and Radius"
   ]
  },
  {
   "cell_type": "code",
   "execution_count": 103,
   "metadata": {},
   "outputs": [
    {
     "data": {
      "text/html": [
       "<div>\n",
       "<style>\n",
       "    .dataframe thead tr:only-child th {\n",
       "        text-align: right;\n",
       "    }\n",
       "\n",
       "    .dataframe thead th {\n",
       "        text-align: left;\n",
       "    }\n",
       "\n",
       "    .dataframe tbody tr th {\n",
       "        vertical-align: top;\n",
       "    }\n",
       "</style>\n",
       "<table border=\"1\" class=\"dataframe\">\n",
       "  <thead>\n",
       "    <tr style=\"text-align: right;\">\n",
       "      <th></th>\n",
       "      <th>Avg Rin(micron)</th>\n",
       "      <th>Std Rin(micron)</th>\n",
       "    </tr>\n",
       "  </thead>\n",
       "  <tbody>\n",
       "    <tr>\n",
       "      <th>Test 1</th>\n",
       "      <td>65.54</td>\n",
       "      <td>3.391607</td>\n",
       "    </tr>\n",
       "    <tr>\n",
       "      <th>Test 2</th>\n",
       "      <td>52.06</td>\n",
       "      <td>10.510614</td>\n",
       "    </tr>\n",
       "    <tr>\n",
       "      <th>Test 3</th>\n",
       "      <td>56.32</td>\n",
       "      <td>2.786934</td>\n",
       "    </tr>\n",
       "  </tbody>\n",
       "</table>\n",
       "</div>"
      ],
      "text/plain": [
       "        Avg Rin(micron)  Std Rin(micron)\n",
       "Test 1            65.54         3.391607\n",
       "Test 2            52.06        10.510614\n",
       "Test 3            56.32         2.786934"
      ]
     },
     "execution_count": 103,
     "metadata": {},
     "output_type": "execute_result"
    }
   ],
   "source": [
    "#Inner Radius (separated by Test)\n",
    "\n",
    "ir_array = np.zeros((3,2))\n",
    "\n",
    "for i in range(0,2):\n",
    "    for j in range(0,3):\n",
    "        ir_array[j,0] = df_area['Rinner (micron)'][ (df_area['Test'] == j+1) ].mean()\n",
    "        ir_array[j,1] = df_area['Rinner (micron)'][ (df_area['Test'] == j+1) ].std()\n",
    "\n",
    "ir_df = pd.DataFrame(ir_array, index= ['Test '+str(i) for i in range(1,4)], \n",
    "                      columns = ['Avg Rin(micron)', 'Std Rin(micron)'] )\n",
    "\n",
    "ir_df"
   ]
  },
  {
   "cell_type": "code",
   "execution_count": 114,
   "metadata": {},
   "outputs": [
    {
     "data": {
      "text/html": [
       "<div>\n",
       "<style>\n",
       "    .dataframe thead tr:only-child th {\n",
       "        text-align: right;\n",
       "    }\n",
       "\n",
       "    .dataframe thead th {\n",
       "        text-align: left;\n",
       "    }\n",
       "\n",
       "    .dataframe tbody tr th {\n",
       "        vertical-align: top;\n",
       "    }\n",
       "</style>\n",
       "<table border=\"1\" class=\"dataframe\">\n",
       "  <thead>\n",
       "    <tr style=\"text-align: right;\">\n",
       "      <th></th>\n",
       "      <th>Avg Rout(micron)</th>\n",
       "      <th>Std Rout(micron)</th>\n",
       "    </tr>\n",
       "  </thead>\n",
       "  <tbody>\n",
       "    <tr>\n",
       "      <th>Test 1</th>\n",
       "      <td>124.82</td>\n",
       "      <td>11.580458</td>\n",
       "    </tr>\n",
       "    <tr>\n",
       "      <th>Test 2</th>\n",
       "      <td>102.90</td>\n",
       "      <td>24.343069</td>\n",
       "    </tr>\n",
       "    <tr>\n",
       "      <th>Test 3</th>\n",
       "      <td>138.62</td>\n",
       "      <td>21.918189</td>\n",
       "    </tr>\n",
       "  </tbody>\n",
       "</table>\n",
       "</div>"
      ],
      "text/plain": [
       "        Avg Rout(micron)  Std Rout(micron)\n",
       "Test 1            124.82         11.580458\n",
       "Test 2            102.90         24.343069\n",
       "Test 3            138.62         21.918189"
      ]
     },
     "execution_count": 114,
     "metadata": {},
     "output_type": "execute_result"
    }
   ],
   "source": [
    "#Outer Radius (separated by Test)\n",
    "\n",
    "or_array = np.zeros((3,2))\n",
    "\n",
    "for i in range(0,2):\n",
    "    for j in range(0,3):\n",
    "        or_array[j,0] = df_area['Router (micron)'][ (df_area['Test'] == j+1) ].mean()\n",
    "        or_array[j,1] = df_area['Router (micron)'][ (df_area['Test'] == j+1) ].std()\n",
    "\n",
    "or_df = pd.DataFrame(or_array, index= ['Test '+str(i) for i in range(1,4)], \n",
    "                      columns = ['Avg Rout(micron)', 'Std Rout(micron)'] )\n",
    "\n",
    "or_df"
   ]
  },
  {
   "cell_type": "code",
   "execution_count": 183,
   "metadata": {},
   "outputs": [
    {
     "data": {
      "text/html": [
       "<div>\n",
       "<style>\n",
       "    .dataframe thead tr:only-child th {\n",
       "        text-align: right;\n",
       "    }\n",
       "\n",
       "    .dataframe thead th {\n",
       "        text-align: left;\n",
       "    }\n",
       "\n",
       "    .dataframe tbody tr th {\n",
       "        vertical-align: top;\n",
       "    }\n",
       "</style>\n",
       "<table border=\"1\" class=\"dataframe\">\n",
       "  <thead>\n",
       "    <tr style=\"text-align: right;\">\n",
       "      <th></th>\n",
       "      <th>Avg Rin(micron)</th>\n",
       "      <th>Std Rin(micron)</th>\n",
       "      <th>Avg Rout(micron)</th>\n",
       "      <th>Std Rout(micron)</th>\n",
       "      <th>AvgEgy(mJ)</th>\n",
       "      <th>Std Dev</th>\n",
       "    </tr>\n",
       "  </thead>\n",
       "  <tbody>\n",
       "    <tr>\n",
       "      <th>Test 1</th>\n",
       "      <td>65.54</td>\n",
       "      <td>3.391607</td>\n",
       "      <td>124.82</td>\n",
       "      <td>11.580458</td>\n",
       "      <td>10.720014</td>\n",
       "      <td>3.950930</td>\n",
       "    </tr>\n",
       "    <tr>\n",
       "      <th>Test 2</th>\n",
       "      <td>52.06</td>\n",
       "      <td>10.510614</td>\n",
       "      <td>102.90</td>\n",
       "      <td>24.343069</td>\n",
       "      <td>11.296267</td>\n",
       "      <td>3.955306</td>\n",
       "    </tr>\n",
       "    <tr>\n",
       "      <th>Test 3</th>\n",
       "      <td>56.32</td>\n",
       "      <td>2.786934</td>\n",
       "      <td>138.62</td>\n",
       "      <td>21.918189</td>\n",
       "      <td>18.837605</td>\n",
       "      <td>6.711509</td>\n",
       "    </tr>\n",
       "  </tbody>\n",
       "</table>\n",
       "</div>"
      ],
      "text/plain": [
       "        Avg Rin(micron)  Std Rin(micron)  Avg Rout(micron)  Std Rout(micron)  \\\n",
       "Test 1            65.54         3.391607            124.82         11.580458   \n",
       "Test 2            52.06        10.510614            102.90         24.343069   \n",
       "Test 3            56.32         2.786934            138.62         21.918189   \n",
       "\n",
       "        AvgEgy(mJ)   Std Dev  \n",
       "Test 1   10.720014  3.950930  \n",
       "Test 2   11.296267  3.955306  \n",
       "Test 3   18.837605  6.711509  "
      ]
     },
     "execution_count": 183,
     "metadata": {},
     "output_type": "execute_result"
    }
   ],
   "source": [
    "#Combining Dataframes (Rout,Rin,Energy)\n",
    "main_df = pd.concat([ir_df,or_df,nrg_df2],axis=1)\n",
    "main_df"
   ]
  },
  {
   "cell_type": "markdown",
   "metadata": {},
   "source": [
    "# Crater & Overflow Radius vs. Discharge Nrg"
   ]
  },
  {
   "cell_type": "code",
   "execution_count": 177,
   "metadata": {},
   "outputs": [
    {
     "data": {
      "image/png": "[encoded data removed]",
      "text/plain": [
       "<matplotlib.figure.Figure at 0x190576736a0>"
      ]
     },
     "metadata": {},
     "output_type": "display_data"
    }
   ],
   "source": [
    "fig, ax1 = plt.subplots(figsize=(10,5))\n",
    "\n",
    "label = or_df.index\n",
    "lgd = ['R_outer', 'R_inner']\n",
    "ax1.errorbar([1,2,3], or_df['Avg Rout(micron)'], or_df['Std Rout(micron)'],\n",
    "            marker='s', ls='dashed', barsabove=True, label ='R_out')\n",
    "\n",
    "ax1.set_xlabel('Tests')\n",
    "ax1.set_xticks([1,2,3])\n",
    "ax1.set_ylabel('Radius (microns)')\n",
    "\n",
    "ax1.errorbar([1,2,3], ir_df['Avg Rin(micron)'], ir_df['Std Rin(micron)'],\n",
    "            marker='o', ls='dotted', barsabove=True, label = 'R_in')\n",
    "\n",
    "ax2 = ax1.twinx()\n",
    "\n",
    "ax2.errorbar([1,2,3], nrg_df['AvgEgy(mJ)'], nrg_df['Std Dev'],\n",
    "            marker='*', ls='solid', barsabove=True, label = 'NRG', c ='g')\n",
    "\n",
    "ax2.set_ylabel('Discharge Energy (mJ)', color='g')\n",
    "ax2.tick_params('y', colors='g')\n",
    "\n",
    "ax1.legend(loc='upper left')\n",
    "ax2.legend(loc='upper right')\n",
    "\n",
    "plt.grid()\n",
    "plt.suptitle('Crater & Overflow Radius vs. Discharge Energy')\n",
    "\n",
    "plt.gcf().savefig('Radius vs. Discharge Energy.png')\n",
    "\n",
    "plt.show()"
   ]
  },
  {
   "cell_type": "markdown",
   "metadata": {},
   "source": [
    "# Rough Work"
   ]
  },
  {
   "cell_type": "code",
   "execution_count": 45,
   "metadata": {
    "collapsed": true
   },
   "outputs": [
    {
     "ename": "ValueError",
     "evalue": "setting an array element with a sequence.",
     "output_type": "error",
     "traceback": [
      "\u001b[1;31m---------------------------------------------------------------------------\u001b[0m",
      "\u001b[1;31mValueError\u001b[0m                                Traceback (most recent call last)",
      "\u001b[1;32m<ipython-input-45-7d8ec187c072>\u001b[0m in \u001b[0;36m<module>\u001b[1;34m()\u001b[0m\n\u001b[0;32m      1\u001b[0m \u001b[0mdtype\u001b[0m \u001b[1;33m=\u001b[0m \u001b[0mdict\u001b[0m\u001b[1;33m(\u001b[0m\u001b[1;33m)\u001b[0m\u001b[1;33m\u001b[0m\u001b[0m\n\u001b[1;32m----> 2\u001b[1;33m \u001b[0mary\u001b[0m \u001b[1;33m=\u001b[0m \u001b[0mnp\u001b[0m\u001b[1;33m.\u001b[0m\u001b[0mfromiter\u001b[0m\u001b[1;33m(\u001b[0m\u001b[0mstat_dict\u001b[0m\u001b[1;33m[\u001b[0m\u001b[1;36m1\u001b[0m\u001b[1;33m]\u001b[0m\u001b[1;33m.\u001b[0m\u001b[0mitems\u001b[0m\u001b[1;33m(\u001b[0m\u001b[1;33m)\u001b[0m\u001b[1;33m,\u001b[0m \u001b[0mnp\u001b[0m\u001b[1;33m.\u001b[0m\u001b[0mfloat\u001b[0m\u001b[1;33m)\u001b[0m\u001b[1;33m\u001b[0m\u001b[0m\n\u001b[0m",
      "\u001b[1;31mValueError\u001b[0m: setting an array element with a sequence."
     ]
    }
   ],
   "source": [
    "dtype = dict()\n",
    "ary = np.fromiter(stat_dict[1].items(), \n",
    "                  dtype=dtype, count = len(stat_dict[1]))"
   ]
  },
  {
   "cell_type": "code",
   "execution_count": 50,
   "metadata": {},
   "outputs": [
    {
     "data": {
      "text/plain": [
       "0.025027670140240009"
      ]
     },
     "execution_count": 50,
     "metadata": {},
     "output_type": "execute_result"
    }
   ],
   "source": [
    "#calculating integral for energy using trapezoidal rule\n",
    "np.trapz(fltd['Power(W)'].values,\n",
    "                                    fltd['Time(s)'].values)"
   ]
  },
  {
   "cell_type": "code",
   "execution_count": 27,
   "metadata": {},
   "outputs": [
    {
     "data": {
      "text/html": [
       "<div>\n",
       "<style>\n",
       "    .dataframe thead tr:only-child th {\n",
       "        text-align: right;\n",
       "    }\n",
       "\n",
       "    .dataframe thead th {\n",
       "        text-align: left;\n",
       "    }\n",
       "\n",
       "    .dataframe tbody tr th {\n",
       "        vertical-align: top;\n",
       "    }\n",
       "</style>\n",
       "<table border=\"1\" class=\"dataframe\">\n",
       "  <thead>\n",
       "    <tr style=\"text-align: right;\">\n",
       "      <th></th>\n",
       "      <th>1</th>\n",
       "      <th>2</th>\n",
       "      <th>3</th>\n",
       "      <th>4</th>\n",
       "      <th>5</th>\n",
       "      <th>Trials Average</th>\n",
       "    </tr>\n",
       "  </thead>\n",
       "  <tbody>\n",
       "    <tr>\n",
       "      <th>count</th>\n",
       "      <td>1075.000000</td>\n",
       "      <td>1038.000000</td>\n",
       "      <td>928.000000</td>\n",
       "      <td>1385.000000</td>\n",
       "      <td>1293.000000</td>\n",
       "      <td>1143.800000</td>\n",
       "    </tr>\n",
       "    <tr>\n",
       "      <th>mean</th>\n",
       "      <td>215.156589</td>\n",
       "      <td>138.985228</td>\n",
       "      <td>65.625000</td>\n",
       "      <td>238.252708</td>\n",
       "      <td>235.545244</td>\n",
       "      <td>178.712954</td>\n",
       "    </tr>\n",
       "    <tr>\n",
       "      <th>std</th>\n",
       "      <td>163.336006</td>\n",
       "      <td>230.618820</td>\n",
       "      <td>191.500362</td>\n",
       "      <td>360.998039</td>\n",
       "      <td>143.546493</td>\n",
       "      <td>217.999944</td>\n",
       "    </tr>\n",
       "    <tr>\n",
       "      <th>min</th>\n",
       "      <td>6.666667</td>\n",
       "      <td>6.666667</td>\n",
       "      <td>6.666667</td>\n",
       "      <td>6.666667</td>\n",
       "      <td>6.666667</td>\n",
       "      <td>6.666667</td>\n",
       "    </tr>\n",
       "    <tr>\n",
       "      <th>max</th>\n",
       "      <td>2426.666667</td>\n",
       "      <td>4766.666667</td>\n",
       "      <td>3960.000000</td>\n",
       "      <td>12740.000000</td>\n",
       "      <td>3200.000000</td>\n",
       "      <td>5418.666667</td>\n",
       "    </tr>\n",
       "  </tbody>\n",
       "</table>\n",
       "</div>"
      ],
      "text/plain": [
       "                 1            2            3             4            5  \\\n",
       "count  1075.000000  1038.000000   928.000000   1385.000000  1293.000000   \n",
       "mean    215.156589   138.985228    65.625000    238.252708   235.545244   \n",
       "std     163.336006   230.618820   191.500362    360.998039   143.546493   \n",
       "min       6.666667     6.666667     6.666667      6.666667     6.666667   \n",
       "max    2426.666667  4766.666667  3960.000000  12740.000000  3200.000000   \n",
       "\n",
       "       Trials Average  \n",
       "count     1143.800000  \n",
       "mean       178.712954  \n",
       "std        217.999944  \n",
       "min          6.666667  \n",
       "max       5418.666667  "
      ]
     },
     "execution_count": 27,
     "metadata": {},
     "output_type": "execute_result"
    }
   ],
   "source": [
    "(dfdict_stat[1])"
   ]
  },
  {
   "cell_type": "code",
   "execution_count": 24,
   "metadata": {
    "collapsed": true
   },
   "outputs": [
    {
     "name": "stdout",
     "output_type": "stream",
     "text": [
      "                 1            2            3             4            5  \\\n",
      "count  1075.000000  1038.000000   928.000000   1385.000000  1293.000000   \n",
      "mean    215.156589   138.985228    65.625000    238.252708   235.545244   \n",
      "std     163.336006   230.618820   191.500362    360.998039   143.546493   \n",
      "min       6.666667     6.666667     6.666667      6.666667     6.666667   \n",
      "max    2426.666667  4766.666667  3960.000000  12740.000000  3200.000000   \n",
      "\n",
      "           Average  \n",
      "count  1143.800000  \n",
      "mean    178.712954  \n",
      "std     217.999944  \n",
      "min       6.666667  \n",
      "max    5418.666667  \n",
      "                 1             2            3            4            5  \\\n",
      "count  1038.000000   1126.000000  1398.000000   867.000000   980.000000   \n",
      "mean    138.985228    270.124334   258.278493   122.045367   219.408163   \n",
      "std     230.618820    446.678435   245.418679   195.318626   263.372682   \n",
      "min       6.666667      6.666667     6.666667     6.666667     6.666667   \n",
      "max    4766.666667  14080.000000  5646.666667  2800.000000  6626.666667   \n",
      "\n",
      "           Average  \n",
      "count  1081.800000  \n",
      "mean    201.768317  \n",
      "std     276.281448  \n",
      "min       6.666667  \n",
      "max    6784.000000  \n",
      "                 1            2            3             4            5  \\\n",
      "count   604.000000   580.000000   476.000000   1002.000000  1005.000000   \n",
      "mean    217.847682   213.091954   164.509804    252.880905   247.442786   \n",
      "std     199.934400   172.779381   323.889256    387.713476   110.370493   \n",
      "min       6.666667     6.666667     6.666667      6.666667     6.666667   \n",
      "max    2100.000000  2426.666667  6306.666667  11760.000000  1560.000000   \n",
      "\n",
      "           Average  \n",
      "count   733.400000  \n",
      "mean    219.154626  \n",
      "std     238.937401  \n",
      "min       6.666667  \n",
      "max    4830.666667  \n"
     ]
    }
   ],
   "source": [
    "for key,value in dfdict_stat.items():\n",
    "    dfdict_stat[key]['Average'] = dfdict_stat[key].mean(axis=1) \n",
    "    dfdict_stat[key].index.rename(['No. of Data Pts', 'Mean', 'Std Dev', 'Min', 'max'])\n",
    "    print(dfdict_stat[key])"
   ]
  },
  {
   "cell_type": "code",
   "execution_count": 36,
   "metadata": {},
   "outputs": [
    {
     "data": {
      "image/png": "[encoded data removed]",
      "text/plain": [
       "<matplotlib.figure.Figure at 0x23452dbb550>"
      ]
     },
     "metadata": {},
     "output_type": "display_data"
    },
    {
     "data": {
      "image/png": "[encoded data removed]",
      "text/plain": [
       "<matplotlib.figure.Figure at 0x234534f1518>"
      ]
     },
     "metadata": {},
     "output_type": "display_data"
    },
    {
     "name": "stdout",
     "output_type": "stream",
     "text": [
      "[    6.66666667   482.66666667   958.66666667  1434.66666667  1910.66666667\n",
      "  2386.66666667  2862.66666667  3338.66666667  3814.66666667  4290.66666667\n",
      "  4766.66666667]\n",
      "[1024    9    1    1    1    1    0    0    0    1]\n"
     ]
    }
   ],
   "source": [
    "fltd = dfdict['Test2.1'][\n",
    "    \n",
    "    (dfdict['Test2.1']['CH1(V)']  > 0) & (dfdict['Test2.1']['CH1(V)'] < 10) &\n",
    "    (dfdict['Test2.1']['Power(W)']  > 0) \n",
    "\n",
    "    \n",
    "][['Time(s)','Power(W)']]\n",
    "\n",
    "plt.plot(fltd['Time(s)'],fltd['Power(W)'])\n",
    "\n",
    "dfhist = dfdict['Test2.1'][\n",
    "    \n",
    "    (dfdict['Test2.1']['CH1(V)']  > 0) & (dfdict['Test2.1']['CH1(V)'] < 10) &\n",
    "    (dfdict['Test2.1']['Power(W)']  > 0) \n",
    "\n",
    "]['Power(W)']\n",
    "plt.figure()\n",
    "dfhist.hist()\n",
    "plt.show()\n",
    "\n",
    "counts, bins = np.histogram(dfhist.values)\n",
    "print(bins)\n",
    "print(counts)"
   ]
  },
  {
   "cell_type": "markdown",
   "metadata": {},
   "source": [
    "# Data Filtering Attempts"
   ]
  },
  {
   "cell_type": "code",
   "execution_count": null,
   "metadata": {
    "collapsed": true
   },
   "outputs": [],
   "source": [
    "dfdict['Test2.1']['CH1(V)'].loc[ dfdict['Test2.1']['CH1(V)'] > 10 ].plot()\n",
    "plt.show()"
   ]
  },
  {
   "cell_type": "code",
   "execution_count": 5,
   "metadata": {
    "collapsed": true
   },
   "outputs": [
    {
     "ename": "KeyError",
     "evalue": "'Power(W)'",
     "output_type": "error",
     "traceback": [
      "\u001b[1;31m---------------------------------------------------------------------------\u001b[0m",
      "\u001b[1;31mKeyError\u001b[0m                                  Traceback (most recent call last)",
      "\u001b[1;32m~\\Anaconda3\\lib\\site-packages\\pandas\\core\\indexes\\base.py\u001b[0m in \u001b[0;36mget_loc\u001b[1;34m(self, key, method, tolerance)\u001b[0m\n\u001b[0;32m   2441\u001b[0m             \u001b[1;32mtry\u001b[0m\u001b[1;33m:\u001b[0m\u001b[1;33m\u001b[0m\u001b[0m\n\u001b[1;32m-> 2442\u001b[1;33m                 \u001b[1;32mreturn\u001b[0m \u001b[0mself\u001b[0m\u001b[1;33m.\u001b[0m\u001b[0m_engine\u001b[0m\u001b[1;33m.\u001b[0m\u001b[0mget_loc\u001b[0m\u001b[1;33m(\u001b[0m\u001b[0mkey\u001b[0m\u001b[1;33m)\u001b[0m\u001b[1;33m\u001b[0m\u001b[0m\n\u001b[0m\u001b[0;32m   2443\u001b[0m             \u001b[1;32mexcept\u001b[0m \u001b[0mKeyError\u001b[0m\u001b[1;33m:\u001b[0m\u001b[1;33m\u001b[0m\u001b[0m\n",
      "\u001b[1;32mpandas\\_libs\\index.pyx\u001b[0m in \u001b[0;36mpandas._libs.index.IndexEngine.get_loc\u001b[1;34m()\u001b[0m\n",
      "\u001b[1;32mpandas\\_libs\\index.pyx\u001b[0m in \u001b[0;36mpandas._libs.index.IndexEngine.get_loc\u001b[1;34m()\u001b[0m\n",
      "\u001b[1;32mpandas\\_libs\\hashtable_class_helper.pxi\u001b[0m in \u001b[0;36mpandas._libs.hashtable.PyObjectHashTable.get_item\u001b[1;34m()\u001b[0m\n",
      "\u001b[1;32mpandas\\_libs\\hashtable_class_helper.pxi\u001b[0m in \u001b[0;36mpandas._libs.hashtable.PyObjectHashTable.get_item\u001b[1;34m()\u001b[0m\n",
      "\u001b[1;31mKeyError\u001b[0m: 'Power(W)'",
      "\nDuring handling of the above exception, another exception occurred:\n",
      "\u001b[1;31mKeyError\u001b[0m                                  Traceback (most recent call last)",
      "\u001b[1;32m<ipython-input-5-1a3517b238d6>\u001b[0m in \u001b[0;36m<module>\u001b[1;34m()\u001b[0m\n\u001b[0;32m      4\u001b[0m \u001b[1;33m\u001b[0m\u001b[0m\n\u001b[0;32m      5\u001b[0m     \u001b[1;33m(\u001b[0m\u001b[0mdfdict\u001b[0m\u001b[1;33m[\u001b[0m\u001b[1;34m'Test2.1'\u001b[0m\u001b[1;33m]\u001b[0m\u001b[1;33m[\u001b[0m\u001b[1;34m'CH1(V)'\u001b[0m\u001b[1;33m]\u001b[0m  \u001b[1;33m>\u001b[0m \u001b[1;36m0\u001b[0m\u001b[1;33m)\u001b[0m \u001b[1;33m&\u001b[0m \u001b[1;33m(\u001b[0m\u001b[0mdfdict\u001b[0m\u001b[1;33m[\u001b[0m\u001b[1;34m'Test2.1'\u001b[0m\u001b[1;33m]\u001b[0m\u001b[1;33m[\u001b[0m\u001b[1;34m'CH1(V)'\u001b[0m\u001b[1;33m]\u001b[0m \u001b[1;33m<\u001b[0m \u001b[1;36m10\u001b[0m\u001b[1;33m)\u001b[0m \u001b[1;33m&\u001b[0m\u001b[1;33m\u001b[0m\u001b[0m\n\u001b[1;32m----> 6\u001b[1;33m     \u001b[1;33m(\u001b[0m\u001b[0mdfdict\u001b[0m\u001b[1;33m[\u001b[0m\u001b[1;34m'Test2.1'\u001b[0m\u001b[1;33m]\u001b[0m\u001b[1;33m[\u001b[0m\u001b[1;34m'Power(W)'\u001b[0m\u001b[1;33m]\u001b[0m  \u001b[1;33m>\u001b[0m \u001b[1;36m0\u001b[0m\u001b[1;33m)\u001b[0m \u001b[1;33m&\u001b[0m\u001b[1;33m\u001b[0m\u001b[0m\n\u001b[0m\u001b[0;32m      7\u001b[0m     \u001b[1;33m(\u001b[0m\u001b[0mdfdict\u001b[0m\u001b[1;33m[\u001b[0m\u001b[1;34m'Test2.1'\u001b[0m\u001b[1;33m]\u001b[0m\u001b[1;33m[\u001b[0m\u001b[1;34m'Power(W)'\u001b[0m\u001b[1;33m]\u001b[0m\u001b[1;33m[\u001b[0m\u001b[0mnp\u001b[0m\u001b[1;33m.\u001b[0m\u001b[0mabs\u001b[0m\u001b[1;33m(\u001b[0m\u001b[0mdfdict\u001b[0m\u001b[1;33m[\u001b[0m\u001b[1;34m'Test2.1'\u001b[0m\u001b[1;33m]\u001b[0m\u001b[1;33m[\u001b[0m\u001b[1;34m'Power(W)'\u001b[0m\u001b[1;33m]\u001b[0m \u001b[1;33m-\u001b[0m \u001b[0mdfdict\u001b[0m\u001b[1;33m[\u001b[0m\u001b[1;34m'Test2.1'\u001b[0m\u001b[1;33m]\u001b[0m\u001b[1;33m[\u001b[0m\u001b[1;34m'Power(W)'\u001b[0m\u001b[1;33m]\u001b[0m\u001b[1;33m.\u001b[0m\u001b[0mmean\u001b[0m\u001b[1;33m(\u001b[0m\u001b[1;33m)\u001b[0m\u001b[1;33m)\u001b[0m \u001b[1;33m<\u001b[0m \u001b[1;33m(\u001b[0m\u001b[1;36m0.9\u001b[0m\u001b[1;33m*\u001b[0m\u001b[0mdfdict\u001b[0m\u001b[1;33m[\u001b[0m\u001b[1;34m'Test2.1'\u001b[0m\u001b[1;33m]\u001b[0m\u001b[1;33m[\u001b[0m\u001b[1;34m'Power(W)'\u001b[0m\u001b[1;33m]\u001b[0m\u001b[1;33m.\u001b[0m\u001b[0mstd\u001b[0m\u001b[1;33m(\u001b[0m\u001b[1;33m)\u001b[0m\u001b[1;33m)\u001b[0m\u001b[1;33m]\u001b[0m\u001b[1;33m)\u001b[0m\u001b[1;33m\u001b[0m\u001b[0m\n\u001b[0;32m      8\u001b[0m \u001b[1;33m\u001b[0m\u001b[0m\n",
      "\u001b[1;32m~\\Anaconda3\\lib\\site-packages\\pandas\\core\\frame.py\u001b[0m in \u001b[0;36m__getitem__\u001b[1;34m(self, key)\u001b[0m\n\u001b[0;32m   1962\u001b[0m             \u001b[1;32mreturn\u001b[0m \u001b[0mself\u001b[0m\u001b[1;33m.\u001b[0m\u001b[0m_getitem_multilevel\u001b[0m\u001b[1;33m(\u001b[0m\u001b[0mkey\u001b[0m\u001b[1;33m)\u001b[0m\u001b[1;33m\u001b[0m\u001b[0m\n\u001b[0;32m   1963\u001b[0m         \u001b[1;32melse\u001b[0m\u001b[1;33m:\u001b[0m\u001b[1;33m\u001b[0m\u001b[0m\n\u001b[1;32m-> 1964\u001b[1;33m             \u001b[1;32mreturn\u001b[0m \u001b[0mself\u001b[0m\u001b[1;33m.\u001b[0m\u001b[0m_getitem_column\u001b[0m\u001b[1;33m(\u001b[0m\u001b[0mkey\u001b[0m\u001b[1;33m)\u001b[0m\u001b[1;33m\u001b[0m\u001b[0m\n\u001b[0m\u001b[0;32m   1965\u001b[0m \u001b[1;33m\u001b[0m\u001b[0m\n\u001b[0;32m   1966\u001b[0m     \u001b[1;32mdef\u001b[0m \u001b[0m_getitem_column\u001b[0m\u001b[1;33m(\u001b[0m\u001b[0mself\u001b[0m\u001b[1;33m,\u001b[0m \u001b[0mkey\u001b[0m\u001b[1;33m)\u001b[0m\u001b[1;33m:\u001b[0m\u001b[1;33m\u001b[0m\u001b[0m\n",
      "\u001b[1;32m~\\Anaconda3\\lib\\site-packages\\pandas\\core\\frame.py\u001b[0m in \u001b[0;36m_getitem_column\u001b[1;34m(self, key)\u001b[0m\n\u001b[0;32m   1969\u001b[0m         \u001b[1;31m# get column\u001b[0m\u001b[1;33m\u001b[0m\u001b[1;33m\u001b[0m\u001b[0m\n\u001b[0;32m   1970\u001b[0m         \u001b[1;32mif\u001b[0m \u001b[0mself\u001b[0m\u001b[1;33m.\u001b[0m\u001b[0mcolumns\u001b[0m\u001b[1;33m.\u001b[0m\u001b[0mis_unique\u001b[0m\u001b[1;33m:\u001b[0m\u001b[1;33m\u001b[0m\u001b[0m\n\u001b[1;32m-> 1971\u001b[1;33m             \u001b[1;32mreturn\u001b[0m \u001b[0mself\u001b[0m\u001b[1;33m.\u001b[0m\u001b[0m_get_item_cache\u001b[0m\u001b[1;33m(\u001b[0m\u001b[0mkey\u001b[0m\u001b[1;33m)\u001b[0m\u001b[1;33m\u001b[0m\u001b[0m\n\u001b[0m\u001b[0;32m   1972\u001b[0m \u001b[1;33m\u001b[0m\u001b[0m\n\u001b[0;32m   1973\u001b[0m         \u001b[1;31m# duplicate columns & possible reduce dimensionality\u001b[0m\u001b[1;33m\u001b[0m\u001b[1;33m\u001b[0m\u001b[0m\n",
      "\u001b[1;32m~\\Anaconda3\\lib\\site-packages\\pandas\\core\\generic.py\u001b[0m in \u001b[0;36m_get_item_cache\u001b[1;34m(self, item)\u001b[0m\n\u001b[0;32m   1643\u001b[0m         \u001b[0mres\u001b[0m \u001b[1;33m=\u001b[0m \u001b[0mcache\u001b[0m\u001b[1;33m.\u001b[0m\u001b[0mget\u001b[0m\u001b[1;33m(\u001b[0m\u001b[0mitem\u001b[0m\u001b[1;33m)\u001b[0m\u001b[1;33m\u001b[0m\u001b[0m\n\u001b[0;32m   1644\u001b[0m         \u001b[1;32mif\u001b[0m \u001b[0mres\u001b[0m \u001b[1;32mis\u001b[0m \u001b[1;32mNone\u001b[0m\u001b[1;33m:\u001b[0m\u001b[1;33m\u001b[0m\u001b[0m\n\u001b[1;32m-> 1645\u001b[1;33m             \u001b[0mvalues\u001b[0m \u001b[1;33m=\u001b[0m \u001b[0mself\u001b[0m\u001b[1;33m.\u001b[0m\u001b[0m_data\u001b[0m\u001b[1;33m.\u001b[0m\u001b[0mget\u001b[0m\u001b[1;33m(\u001b[0m\u001b[0mitem\u001b[0m\u001b[1;33m)\u001b[0m\u001b[1;33m\u001b[0m\u001b[0m\n\u001b[0m\u001b[0;32m   1646\u001b[0m             \u001b[0mres\u001b[0m \u001b[1;33m=\u001b[0m \u001b[0mself\u001b[0m\u001b[1;33m.\u001b[0m\u001b[0m_box_item_values\u001b[0m\u001b[1;33m(\u001b[0m\u001b[0mitem\u001b[0m\u001b[1;33m,\u001b[0m \u001b[0mvalues\u001b[0m\u001b[1;33m)\u001b[0m\u001b[1;33m\u001b[0m\u001b[0m\n\u001b[0;32m   1647\u001b[0m             \u001b[0mcache\u001b[0m\u001b[1;33m[\u001b[0m\u001b[0mitem\u001b[0m\u001b[1;33m]\u001b[0m \u001b[1;33m=\u001b[0m \u001b[0mres\u001b[0m\u001b[1;33m\u001b[0m\u001b[0m\n",
      "\u001b[1;32m~\\Anaconda3\\lib\\site-packages\\pandas\\core\\internals.py\u001b[0m in \u001b[0;36mget\u001b[1;34m(self, item, fastpath)\u001b[0m\n\u001b[0;32m   3588\u001b[0m \u001b[1;33m\u001b[0m\u001b[0m\n\u001b[0;32m   3589\u001b[0m             \u001b[1;32mif\u001b[0m \u001b[1;32mnot\u001b[0m \u001b[0misnull\u001b[0m\u001b[1;33m(\u001b[0m\u001b[0mitem\u001b[0m\u001b[1;33m)\u001b[0m\u001b[1;33m:\u001b[0m\u001b[1;33m\u001b[0m\u001b[0m\n\u001b[1;32m-> 3590\u001b[1;33m                 \u001b[0mloc\u001b[0m \u001b[1;33m=\u001b[0m \u001b[0mself\u001b[0m\u001b[1;33m.\u001b[0m\u001b[0mitems\u001b[0m\u001b[1;33m.\u001b[0m\u001b[0mget_loc\u001b[0m\u001b[1;33m(\u001b[0m\u001b[0mitem\u001b[0m\u001b[1;33m)\u001b[0m\u001b[1;33m\u001b[0m\u001b[0m\n\u001b[0m\u001b[0;32m   3591\u001b[0m             \u001b[1;32melse\u001b[0m\u001b[1;33m:\u001b[0m\u001b[1;33m\u001b[0m\u001b[0m\n\u001b[0;32m   3592\u001b[0m                 \u001b[0mindexer\u001b[0m \u001b[1;33m=\u001b[0m \u001b[0mnp\u001b[0m\u001b[1;33m.\u001b[0m\u001b[0marange\u001b[0m\u001b[1;33m(\u001b[0m\u001b[0mlen\u001b[0m\u001b[1;33m(\u001b[0m\u001b[0mself\u001b[0m\u001b[1;33m.\u001b[0m\u001b[0mitems\u001b[0m\u001b[1;33m)\u001b[0m\u001b[1;33m)\u001b[0m\u001b[1;33m[\u001b[0m\u001b[0misnull\u001b[0m\u001b[1;33m(\u001b[0m\u001b[0mself\u001b[0m\u001b[1;33m.\u001b[0m\u001b[0mitems\u001b[0m\u001b[1;33m)\u001b[0m\u001b[1;33m]\u001b[0m\u001b[1;33m\u001b[0m\u001b[0m\n",
      "\u001b[1;32m~\\Anaconda3\\lib\\site-packages\\pandas\\core\\indexes\\base.py\u001b[0m in \u001b[0;36mget_loc\u001b[1;34m(self, key, method, tolerance)\u001b[0m\n\u001b[0;32m   2442\u001b[0m                 \u001b[1;32mreturn\u001b[0m \u001b[0mself\u001b[0m\u001b[1;33m.\u001b[0m\u001b[0m_engine\u001b[0m\u001b[1;33m.\u001b[0m\u001b[0mget_loc\u001b[0m\u001b[1;33m(\u001b[0m\u001b[0mkey\u001b[0m\u001b[1;33m)\u001b[0m\u001b[1;33m\u001b[0m\u001b[0m\n\u001b[0;32m   2443\u001b[0m             \u001b[1;32mexcept\u001b[0m \u001b[0mKeyError\u001b[0m\u001b[1;33m:\u001b[0m\u001b[1;33m\u001b[0m\u001b[0m\n\u001b[1;32m-> 2444\u001b[1;33m                 \u001b[1;32mreturn\u001b[0m \u001b[0mself\u001b[0m\u001b[1;33m.\u001b[0m\u001b[0m_engine\u001b[0m\u001b[1;33m.\u001b[0m\u001b[0mget_loc\u001b[0m\u001b[1;33m(\u001b[0m\u001b[0mself\u001b[0m\u001b[1;33m.\u001b[0m\u001b[0m_maybe_cast_indexer\u001b[0m\u001b[1;33m(\u001b[0m\u001b[0mkey\u001b[0m\u001b[1;33m)\u001b[0m\u001b[1;33m)\u001b[0m\u001b[1;33m\u001b[0m\u001b[0m\n\u001b[0m\u001b[0;32m   2445\u001b[0m \u001b[1;33m\u001b[0m\u001b[0m\n\u001b[0;32m   2446\u001b[0m         \u001b[0mindexer\u001b[0m \u001b[1;33m=\u001b[0m \u001b[0mself\u001b[0m\u001b[1;33m.\u001b[0m\u001b[0mget_indexer\u001b[0m\u001b[1;33m(\u001b[0m\u001b[1;33m[\u001b[0m\u001b[0mkey\u001b[0m\u001b[1;33m]\u001b[0m\u001b[1;33m,\u001b[0m \u001b[0mmethod\u001b[0m\u001b[1;33m=\u001b[0m\u001b[0mmethod\u001b[0m\u001b[1;33m,\u001b[0m \u001b[0mtolerance\u001b[0m\u001b[1;33m=\u001b[0m\u001b[0mtolerance\u001b[0m\u001b[1;33m)\u001b[0m\u001b[1;33m\u001b[0m\u001b[0m\n",
      "\u001b[1;32mpandas\\_libs\\index.pyx\u001b[0m in \u001b[0;36mpandas._libs.index.IndexEngine.get_loc\u001b[1;34m()\u001b[0m\n",
      "\u001b[1;32mpandas\\_libs\\index.pyx\u001b[0m in \u001b[0;36mpandas._libs.index.IndexEngine.get_loc\u001b[1;34m()\u001b[0m\n",
      "\u001b[1;32mpandas\\_libs\\hashtable_class_helper.pxi\u001b[0m in \u001b[0;36mpandas._libs.hashtable.PyObjectHashTable.get_item\u001b[1;34m()\u001b[0m\n",
      "\u001b[1;32mpandas\\_libs\\hashtable_class_helper.pxi\u001b[0m in \u001b[0;36mpandas._libs.hashtable.PyObjectHashTable.get_item\u001b[1;34m()\u001b[0m\n",
      "\u001b[1;31mKeyError\u001b[0m: 'Power(W)'"
     ]
    }
   ],
   "source": [
    "#filtering data for outliers with standard deviations...hard to choose the right coefficients \n",
    "\n",
    "dfdict['Test2.1'][\n",
    "    \n",
    "    (dfdict['Test2.1']['CH1(V)']  > 0) & (dfdict['Test2.1']['CH1(V)'] < 10) &\n",
    "    (dfdict['Test2.1']['Power(W)']  > 0) & \n",
    "    (dfdict['Test2.1']['Power(W)'][np.abs(dfdict['Test2.1']['Power(W)'] - dfdict['Test2.1']['Power(W)'].mean()) < (0.9*dfdict['Test2.1']['Power(W)'].std())])\n",
    "    \n",
    "]['Power(W)'].plot()\n",
    "plt.show()"
   ]
  },
  {
   "cell_type": "code",
   "execution_count": null,
   "metadata": {
    "collapsed": true
   },
   "outputs": [],
   "source": [
    "#filtering data for outliers with standard deviations...hard to choose the right coefficients \n",
    "\n",
    "mval = dfdict['Test2.1']['Power(W)'][np.abs(dfdict['Test2.1']['Power(W)'] - dfdict['Test2.1']['Power(W)'].mean()) \n",
    "                                    < (2*dfdict['Test2.1']['Power(W)'].std())].max()\n",
    "print(mval)\n",
    "#Still showing those spikes....\n",
    "print(dfdict['Test2.1']['Power(W)'].std())"
   ]
  },
  {
   "cell_type": "code",
   "execution_count": 44,
   "metadata": {},
   "outputs": [
    {
     "data": {
      "text/plain": [
       "count    1038.000000\n",
       "mean      138.985228\n",
       "std       230.618820\n",
       "min         6.666667\n",
       "25%        33.333333\n",
       "50%        53.333333\n",
       "75%       240.000000\n",
       "max      4766.666667\n",
       "Name: Power(W), dtype: float64"
      ]
     },
     "execution_count": 44,
     "metadata": {},
     "output_type": "execute_result"
    }
   ],
   "source": [
    "#Soham's idea: if frequency of spikes not too high, then just go ahead with straight integration\n",
    "\n",
    "dfdict['Test2.1'][\n",
    "    \n",
    "    (dfdict['Test2.1']['CH1(V)']  > 0) & (dfdict['Test2.1']['CH1(V)'] < 10) &\n",
    "    (dfdict['Test2.1']['Power(W)']  > 0) \n",
    "\n",
    "]['Power(W)'].describe()"
   ]
  },
  {
   "cell_type": "code",
   "execution_count": 180,
   "metadata": {},
   "outputs": [
    {
     "data": {
      "image/png": "[encoded data removed]",
      "text/plain": [
       "<matplotlib.figure.Figure at 0x1dc76d98d68>"
      ]
     },
     "metadata": {},
     "output_type": "display_data"
    }
   ],
   "source": [
    "dfhist = dfdict['Test2.1'][\n",
    "    \n",
    "    (dfdict['Test2.1']['CH1(V)']  > 0) & (dfdict['Test2.1']['CH1(V)'] < 10) &\n",
    "    (dfdict['Test2.1']['Power(W)']  > 0) \n",
    "\n",
    "]['Power(W)']\n",
    "dfhist.hist()\n",
    "plt.show()"
   ]
  },
  {
   "cell_type": "code",
   "execution_count": 185,
   "metadata": {},
   "outputs": [
    {
     "name": "stdout",
     "output_type": "stream",
     "text": [
      "[    6.66666667   482.66666667   958.66666667  1434.66666667  1910.66666667\n",
      "  2386.66666667  2862.66666667  3338.66666667  3814.66666667  4290.66666667\n",
      "  4766.66666667]\n",
      "[1024    9    1    1    1    1    0    0    0    1]\n"
     ]
    }
   ],
   "source": [
    "counts, bins = np.histogram(dfhist.values)\n",
    "print(bins)\n",
    "print(counts)"
   ]
  },
  {
   "cell_type": "code",
   "execution_count": 74,
   "metadata": {},
   "outputs": [
    {
     "data": {
      "image/png": "[encoded data removed]",
      "text/plain": [
       "<matplotlib.figure.Figure at 0x2273aebb470>"
      ]
     },
     "metadata": {},
     "output_type": "display_data"
    }
   ],
   "source": [
    "#Try to slice data, but you don't know which index to slice for each trial/test\n",
    "\n",
    "newdf = dfdict['Test2.2']['Power(W)'].loc[0 < dfdict['Test2.2']['Power(W)']]\n",
    "newdf.loc[520:1400].plot()\n",
    "plt.show()"
   ]
  },
  {
   "cell_type": "code",
   "execution_count": 13,
   "metadata": {
    "collapsed": true
   },
   "outputs": [
    {
     "data": {
      "image/png": "[encoded data removed]",
      "text/plain": [
       "<matplotlib.figure.Figure at 0x2273a416240>"
      ]
     },
     "metadata": {},
     "output_type": "display_data"
    }
   ],
   "source": [
    "dfdict['Test2.1']['Power(W)'].ix[dfdict['Test2.1']['Power(W)'] > 60].plot()\n",
    "plt.show()"
   ]
  },
  {
   "cell_type": "code",
   "execution_count": 186,
   "metadata": {
    "collapsed": true
   },
   "outputs": [
    {
     "ename": "KeyError",
     "evalue": "'Test2'",
     "output_type": "error",
     "traceback": [
      "\u001b[1;31m---------------------------------------------------------------------------\u001b[0m",
      "\u001b[1;31mKeyError\u001b[0m                                  Traceback (most recent call last)",
      "\u001b[1;32m<ipython-input-186-407d71459352>\u001b[0m in \u001b[0;36m<module>\u001b[1;34m()\u001b[0m\n\u001b[0;32m      1\u001b[0m \u001b[1;31m#Adding necessary columns\u001b[0m\u001b[1;33m\u001b[0m\u001b[1;33m\u001b[0m\u001b[0m\n\u001b[0;32m      2\u001b[0m \u001b[1;33m\u001b[0m\u001b[0m\n\u001b[1;32m----> 3\u001b[1;33m \u001b[0mdfdict\u001b[0m\u001b[1;33m[\u001b[0m\u001b[1;34m'Test2'\u001b[0m\u001b[1;33m]\u001b[0m\u001b[1;33m[\u001b[0m\u001b[1;34m'Voltage(V)'\u001b[0m\u001b[1;33m]\u001b[0m \u001b[1;33m=\u001b[0m \u001b[0mdfdict\u001b[0m\u001b[1;33m[\u001b[0m\u001b[1;34m'Test2'\u001b[0m\u001b[1;33m]\u001b[0m\u001b[1;33m[\u001b[0m\u001b[1;34m'CH3(V)'\u001b[0m\u001b[1;33m]\u001b[0m \u001b[1;33m-\u001b[0m \u001b[0mdfdict\u001b[0m\u001b[1;33m[\u001b[0m\u001b[1;34m'Test2'\u001b[0m\u001b[1;33m]\u001b[0m\u001b[1;33m[\u001b[0m\u001b[1;34m'CH4(V)'\u001b[0m\u001b[1;33m]\u001b[0m\u001b[1;33m\u001b[0m\u001b[0m\n\u001b[0m\u001b[0;32m      4\u001b[0m \u001b[1;33m\u001b[0m\u001b[0m\n\u001b[0;32m      5\u001b[0m \u001b[0mdfdict\u001b[0m\u001b[1;33m[\u001b[0m\u001b[1;34m'Test2'\u001b[0m\u001b[1;33m]\u001b[0m\u001b[1;33m[\u001b[0m\u001b[1;34m'Current(A)'\u001b[0m\u001b[1;33m]\u001b[0m \u001b[1;33m=\u001b[0m \u001b[1;33m(\u001b[0m\u001b[0mdfdict\u001b[0m\u001b[1;33m[\u001b[0m\u001b[1;34m'Test2'\u001b[0m\u001b[1;33m]\u001b[0m\u001b[1;33m[\u001b[0m\u001b[1;34m'CH2(V)'\u001b[0m\u001b[1;33m]\u001b[0m \u001b[1;33m-\u001b[0m \u001b[0mdfdict\u001b[0m\u001b[1;33m[\u001b[0m\u001b[1;34m'Test2'\u001b[0m\u001b[1;33m]\u001b[0m\u001b[1;33m[\u001b[0m\u001b[1;34m'CH3(V)'\u001b[0m\u001b[1;33m]\u001b[0m\u001b[1;33m)\u001b[0m\u001b[1;33m/\u001b[0m\u001b[1;36m0.6\u001b[0m\u001b[1;33m\u001b[0m\u001b[0m\n",
      "\u001b[1;31mKeyError\u001b[0m: 'Test2'"
     ]
    }
   ],
   "source": [
    "#Adding necessary columns\n",
    "\n",
    "dfdict['Test2']['Voltage(V)'] = dfdict['Test2']['CH3(V)'] - dfdict['Test2']['CH4(V)']\n",
    "\n",
    "dfdict['Test2']['Current(A)'] = (dfdict['Test2']['CH2(V)'] - dfdict['Test2']['CH3(V)'])/0.6\n",
    "\n",
    "dfdict['Test2']['Power(W)'] = dfdict['Test2']['Voltage(V)'] * dfdict['Test2']['Current(A)']\n",
    "\n",
    "\n",
    "dfdict['Test2']['Power(W)'].plot()\n",
    "plt.show()"
   ]
  },
  {
   "cell_type": "code",
   "execution_count": 84,
   "metadata": {},
   "outputs": [
    {
     "data": {
      "text/plain": [
       "15"
      ]
     },
     "execution_count": 84,
     "metadata": {},
     "output_type": "execute_result"
    }
   ],
   "source": [
    "#importing all files in to a LIST\n",
    "\n",
    "path = r'C:\\Users\\jbpat\\Documents\\ME451Research\\Tests'\n",
    "allFiles = glob.glob(os.path.join(path,\"*.csv\"))\n",
    "\n",
    "dflist=[]\n",
    "\n",
    "for file_ in allFiles:\n",
    "    dflist.append(pd.read_csv(file_, sep=',', header=None, usecols=[3,4,10,16,22], \\\n",
    "                    names=['Time(s)', 'CH1(V)', 'CH2(V)', 'CH3(V)','CH4(V)']))\n",
    "\n",
    "len(dflist)"
   ]
  },
  {
   "cell_type": "code",
   "execution_count": null,
   "metadata": {
    "collapsed": true
   },
   "outputs": [],
   "source": [
    "#Only want to use particular columns\n",
    "\n",
    "test2 = pd.read_csv('Test2.csv', sep=',', header=None, usecols=[3,4,10,16,22], \\\n",
    "                    names=['Time(s)', 'CH1(V)', 'CH2(V)', 'CH3(V)','CH4(V)'])"
   ]
  },
  {
   "cell_type": "code",
   "execution_count": null,
   "metadata": {
    "collapsed": true
   },
   "outputs": [],
   "source": [
    "#Iterates through all excel files (test1, test2, ...) and makes graphs\n",
    "#Replaced by new method for trials and tests...\n",
    "for key, value in dfdict.items():\n",
    "    dfdict[key]['Voltage(V)'] = dfdict[key]['CH3(V)'] - dfdict[key]['CH4(V)']\n",
    "    dfdict[key]['Current(A)'] = (dfdict[key]['CH2(V)'] - dfdict[key]['CH3(V)'])/0.6\n",
    "    dfdict[key]['Power(W)'] = dfdict[key]['Voltage(V)'] * dfdict[key]['Current(A)']\n",
    "    plt.plot(dfdict[key]['Time(s)'],dfdict[key]['Power(W)'])\n",
    "    plt.gca().xaxis.set_major_formatter(mtick.FormatStrFormatter('%2.1e'))\n",
    "    plt.xlabel('Time(s)')\n",
    "    plt.ylabel('Discharge Energy(J)')\n",
    "    #axes = plt.gca()\n",
    "    #axes.set_xlim(left=0)\n",
    "    #axes.set_ylim([ymin,ymax])\n",
    "    #dfdict[key]['Power(W)'].ix[dfdict[key]['Power(W)'] > dfdict[key]['Power(W)'].mean()].plot()\n",
    "    plt.title(key)\n",
    "    plt.show()"
   ]
  },
  {
   "cell_type": "code",
   "execution_count": null,
   "metadata": {
    "collapsed": true
   },
   "outputs": [],
   "source": [
    "#New Plotting loop for tests in each trial\n",
    "\n",
    "for test in np.arange(1,4):\n",
    "   \n",
    "    plt.figure(figsize=(20,10))\n",
    "    leglbl = []\n",
    "    \n",
    "    for trial in np.arange(1,6):\n",
    "        key = \"Test\"+str(test)+\".\"+str(trial)\n",
    "        \n",
    "        dfdict[key]['Voltage(V)'] = dfdict[key]['CH3(V)'] - dfdict[key]['CH4(V)']\n",
    "        dfdict[key]['Current(A)'] = (dfdict[key]['CH2(V)'] - dfdict[key]['CH3(V)'])/0.6\n",
    "        dfdict[key]['Power(W)'] = dfdict[key]['Voltage(V)'] * dfdict[key]['Current(A)']\n",
    "        #(dfdict[key]['CH2(V)']-dfdict[key]['CH3(V)']).plot()\n",
    "        #dfdict[key]['Voltage(V)'].plot()\n",
    "        #dfdict[key]['Current(A)'].plot()\n",
    "        plt.gca().xaxis.set_major_formatter(mtick.FormatStrFormatter('%2.1e'))\n",
    "        plt.xlabel('Time(s)',fontsize=20)\n",
    "        #plt.ylabel('Discharge Energy(J)',fontsize=20)\n",
    "        leglbl.append(\"Trial:\"+str(trial))\n",
    "        plt.legend(leglbl)\n",
    "        #plt.plot(dfdict[key]['Time(s)'], dfdict[key]['Voltage(V)'], dfdict[key]['Time(s)'], dfdict[key]['Current(A)'])\n",
    "        plt.plot(dfdict[key]['Time(s)'].loc[ dfdict[key]['CH1(V)'] < 10 ],dfdict[key]['Power(W)'].loc[ dfdict[key]['CH1(V)'] < 10 ])\n",
    "        #dfdict[key]['Power(W)'][0.00005:2000].plot()\n",
    "        \n",
    "        \n",
    "        \n",
    "    \n",
    "    plt.title(\"Test \" +str(test),fontsize=20)\n",
    "    plt.gcf().savefig('{}.png'.format(\"Test \" +str(test)))\n",
    "    plt.show()"
   ]
  },
  {
   "cell_type": "code",
   "execution_count": 73,
   "metadata": {},
   "outputs": [
    {
     "name": "stdout",
     "output_type": "stream",
     "text": [
      "0 {0: '0', 1: '1', 2: '2', 3: '3', 4: '4', 5: '5'}\n",
      "1 {0: '1', 1: '2', 2: '3', 3: '4', 4: '5', 5: '6'}\n",
      "2 {0: '2', 1: '3', 2: '4', 3: '5', 4: '6', 5: '7'}\n"
     ]
    }
   ],
   "source": [
    "#playing around with dictionaries\n",
    "myd = {}\n",
    "for i in range(0,3):\n",
    "    myd[i] = {}\n",
    "    for j in range(0,6):\n",
    "        myd[i][j] = str(j+i)\n",
    "\n",
    "for key,value in myd.items():\n",
    "    print (key,value)"
   ]
  },
  {
   "cell_type": "code",
   "execution_count": null,
   "metadata": {
    "collapsed": true
   },
   "outputs": [],
   "source": [
    "my_list = []\n",
    "my_array = np.\n",
    "for i in range(0,5):\n",
    "    for j in range(0,6):\n",
    "        ary = np.arange(i+j)\n",
    "        my_list.append(ary)\n",
    "\n",
    "print(my_list[2])"
   ]
  },
  {
   "cell_type": "code",
   "execution_count": null,
   "metadata": {
    "collapsed": true
   },
   "outputs": [],
   "source": [
    "stat_dict = {}\n",
    "stat_dflist = [[],[],[],[],[]]\n",
    "\n",
    "for test in np.arange(1,4):\n",
    "   \n",
    "    plt.figure(figsize=(20,10))\n",
    "    leglbl = []\n",
    "    \n",
    "    for trial in np.arange(1,6):\n",
    "        key = \"Test\"+str(test)+\".\"+str(trial)\n",
    "        \n",
    "        #Calculate V, I, P\n",
    "        dfdict[key]['Voltage(V)'] = dfdict[key]['CH3(V)'] - dfdict[key]['CH4(V)']\n",
    "        dfdict[key]['Current(A)'] = (dfdict[key]['CH2(V)'] - dfdict[key]['CH3(V)'])/0.6\n",
    "        dfdict[key]['Power(W)'] = dfdict[key]['Voltage(V)'] * dfdict[key]['Current(A)']\n",
    "        \n",
    "        #Filter data\n",
    "        fltd = dfdict[key][\n",
    "    \n",
    "                (dfdict[key]['CH1(V)']  > 0) & (dfdict[key]['CH1(V)'] < 10) &\n",
    "                (dfdict[key]['Power(W)']  > 0) \n",
    "\n",
    "               ][['Time(s)','Power(W)']]\n",
    "        \n",
    "        stat_dflist[test].append(fltd['Power(W)'].describe())\n",
    "        \n",
    "        plt.plot(fltd['Time(s)'],fltd['Power(W)'])\n",
    "        plt.gca().xaxis.set_major_formatter(mtick.FormatStrFormatter('%2.1e'))\n",
    "        plt.xlabel('Time(s)',fontsize=20)\n",
    "        plt.ylabel('Power(W)',fontsize=20)\n",
    "        leglbl.append(\"Trial:\"+str(trial))\n",
    "        plt.legend(leglbl)\n",
    "        \n",
    "                        \n",
    "    plt.title(\"Test \" +str(test),fontsize=20)\n",
    "    plt.gcf().savefig('{}.png'.format(\"Test \" +str(test)))\n",
    "    #plt.show()\n",
    "    \n",
    "\n",
    "print(stat_dflist[1][1].values.shape)\n",
    "\n"
   ]
  },
  {
   "cell_type": "code",
   "execution_count": 29,
   "metadata": {},
   "outputs": [
    {
     "name": "stdout",
     "output_type": "stream",
     "text": [
      "[ 1038.           138.985228     230.61882008     6.66666667    33.33333333\n",
      "    53.33333333   240.          4766.66666667]\n"
     ]
    },
    {
     "data": {
      "text/plain": [
       "count    1038.000000\n",
       "mean      138.985228\n",
       "std       230.618820\n",
       "min         6.666667\n",
       "25%        33.333333\n",
       "50%        53.333333\n",
       "75%       240.000000\n",
       "max      4766.666667\n",
       "Name: Power(W), dtype: float64"
      ]
     },
     "execution_count": 29,
     "metadata": {},
     "output_type": "execute_result"
    }
   ],
   "source": [
    "statary = np.empty((8,5))\n",
    "statary = stat_dflist[1][1].values\n",
    "print(statary)\n",
    "stat_dflist[1][1]"
   ]
  },
  {
   "cell_type": "code",
   "execution_count": 3,
   "metadata": {},
   "outputs": [
    {
     "ename": "NameError",
     "evalue": "name 'dfdict' is not defined",
     "output_type": "error",
     "traceback": [
      "\u001b[1;31m---------------------------------------------------------------------------\u001b[0m",
      "\u001b[1;31mNameError\u001b[0m                                 Traceback (most recent call last)",
      "\u001b[1;32m<ipython-input-3-4a305e3af0e7>\u001b[0m in \u001b[0;36m<module>\u001b[1;34m()\u001b[0m\n\u001b[0;32m     17\u001b[0m \u001b[1;33m\u001b[0m\u001b[0m\n\u001b[0;32m     18\u001b[0m         \u001b[1;31m#Calculate V, I, P\u001b[0m\u001b[1;33m\u001b[0m\u001b[1;33m\u001b[0m\u001b[0m\n\u001b[1;32m---> 19\u001b[1;33m         \u001b[0mdfdict\u001b[0m\u001b[1;33m[\u001b[0m\u001b[0mkey\u001b[0m\u001b[1;33m]\u001b[0m\u001b[1;33m[\u001b[0m\u001b[1;34m'Voltage(V)'\u001b[0m\u001b[1;33m]\u001b[0m \u001b[1;33m=\u001b[0m \u001b[0mdfdict\u001b[0m\u001b[1;33m[\u001b[0m\u001b[0mkey\u001b[0m\u001b[1;33m]\u001b[0m\u001b[1;33m[\u001b[0m\u001b[1;34m'CH3(V)'\u001b[0m\u001b[1;33m]\u001b[0m \u001b[1;33m-\u001b[0m \u001b[0mdfdict\u001b[0m\u001b[1;33m[\u001b[0m\u001b[0mkey\u001b[0m\u001b[1;33m]\u001b[0m\u001b[1;33m[\u001b[0m\u001b[1;34m'CH4(V)'\u001b[0m\u001b[1;33m]\u001b[0m\u001b[1;33m\u001b[0m\u001b[0m\n\u001b[0m\u001b[0;32m     20\u001b[0m         \u001b[0mdfdict\u001b[0m\u001b[1;33m[\u001b[0m\u001b[0mkey\u001b[0m\u001b[1;33m]\u001b[0m\u001b[1;33m[\u001b[0m\u001b[1;34m'Current(A)'\u001b[0m\u001b[1;33m]\u001b[0m \u001b[1;33m=\u001b[0m \u001b[1;33m(\u001b[0m\u001b[0mdfdict\u001b[0m\u001b[1;33m[\u001b[0m\u001b[0mkey\u001b[0m\u001b[1;33m]\u001b[0m\u001b[1;33m[\u001b[0m\u001b[1;34m'CH2(V)'\u001b[0m\u001b[1;33m]\u001b[0m \u001b[1;33m-\u001b[0m \u001b[0mdfdict\u001b[0m\u001b[1;33m[\u001b[0m\u001b[0mkey\u001b[0m\u001b[1;33m]\u001b[0m\u001b[1;33m[\u001b[0m\u001b[1;34m'CH3(V)'\u001b[0m\u001b[1;33m]\u001b[0m\u001b[1;33m)\u001b[0m\u001b[1;33m/\u001b[0m\u001b[1;36m0.6\u001b[0m\u001b[1;33m\u001b[0m\u001b[0m\n\u001b[0;32m     21\u001b[0m         \u001b[0mdfdict\u001b[0m\u001b[1;33m[\u001b[0m\u001b[0mkey\u001b[0m\u001b[1;33m]\u001b[0m\u001b[1;33m[\u001b[0m\u001b[1;34m'Power(W)'\u001b[0m\u001b[1;33m]\u001b[0m \u001b[1;33m=\u001b[0m \u001b[0mdfdict\u001b[0m\u001b[1;33m[\u001b[0m\u001b[0mkey\u001b[0m\u001b[1;33m]\u001b[0m\u001b[1;33m[\u001b[0m\u001b[1;34m'Voltage(V)'\u001b[0m\u001b[1;33m]\u001b[0m \u001b[1;33m*\u001b[0m \u001b[0mdfdict\u001b[0m\u001b[1;33m[\u001b[0m\u001b[0mkey\u001b[0m\u001b[1;33m]\u001b[0m\u001b[1;33m[\u001b[0m\u001b[1;34m'Current(A)'\u001b[0m\u001b[1;33m]\u001b[0m\u001b[1;33m\u001b[0m\u001b[0m\n",
      "\u001b[1;31mNameError\u001b[0m: name 'dfdict' is not defined"
     ]
    }
   ],
   "source": [
    "stat_dict = {} #dictionary of tests having dictionaries of trials of dataframes that hold stats about power\n",
    "dfdict_stat = {}  #this will eventually be a dataframe\n",
    "\n",
    "nrg_temp = np.zeros((4,6)) #array to store discharge energy for each test and trials\n",
    "#df_nrg = {} #this will eventuall be a dataframe\n",
    "\n",
    "for test in np.arange(1,4):\n",
    "   \n",
    "    plt.figure(figsize=(20,10))\n",
    "    leglbl = []\n",
    "    \n",
    "    stat_dict[test] = {}\n",
    "    #nrg[test] = {}\n",
    "    \n",
    "    for trial in np.arange(1,6):\n",
    "        key = \"Test\"+str(test)+\".\"+str(trial)\n",
    "        \n",
    "        #Calculate V, I, P\n",
    "        dfdict[key]['Voltage(V)'] = dfdict[key]['CH3(V)'] - dfdict[key]['CH4(V)']\n",
    "        dfdict[key]['Current(A)'] = (dfdict[key]['CH2(V)'] - dfdict[key]['CH3(V)'])/0.6\n",
    "        dfdict[key]['Power(W)'] = dfdict[key]['Voltage(V)'] * dfdict[key]['Current(A)']\n",
    "        \n",
    "        #Filter data\n",
    "        fltd = dfdict[key][\n",
    "    \n",
    "                (dfdict[key]['CH1(V)']  > 0) & (dfdict[key]['CH1(V)'] < 10) &\n",
    "                (dfdict[key]['Power(W)']  > 0) & (dfdict[key]['Time(s)']  > 0)\n",
    "\n",
    "               ][['Time(s)','Power(W)']]\n",
    "        \n",
    "        #calculate energy\n",
    "        nrg_temp[test,trial] = np.trapz(fltd['Power(W)'].values, fltd['Time(s)'].values)*1000 #energy in millliJoules\n",
    "        \n",
    "        #Generate summary (Power(W)) of trials, stored in dictionary 'stat_dict' within 'sub'-dictionary 'key'\n",
    "        stat_dict[test][trial] = (fltd['Power(W)'].describe()).drop(['25%','50%','75%'])\n",
    "        \n",
    "        #Make plots\n",
    "        plt.plot(fltd['Time(s)'],fltd['Power(W)'])\n",
    "        plt.gca().xaxis.set_major_formatter(mtick.FormatStrFormatter('%2.1e'))\n",
    "        plt.xlabel('Time(s)',fontsize=20)\n",
    "        plt.ylabel('Power(W)',fontsize=20)\n",
    "        leglbl.append(\"Trial:\"+str(trial))\n",
    "        plt.legend(leglbl)\n",
    "    \n",
    "    #Make dataframe of stats summary \n",
    "    dfdict_stat[test] = pd.DataFrame(stat_dict[test])                    \n",
    "    dfdict_stat[test]['Trials Average'] = dfdict_stat[test].mean(axis=1) \n",
    "    \n",
    "    \n",
    "    plt.title(\"Test \" +str(test),fontsize=20)\n",
    "    plt.gcf().savefig('{}.png'.format(\"Test \" +str(test)))\n",
    "    #plt.show()\n",
    "\n",
    "nrg = nrg_temp[1:4,1:6]\n",
    "nrg_df = pd.DataFrame(nrg, index= ['Test '+str(i) for i in range(1,4)], \n",
    "                      columns = ['Trial ' + str(j) for j in range(1,6)] )\n"
   ]
  },
  {
   "cell_type": "code",
   "execution_count": 178,
   "metadata": {},
   "outputs": [
    {
     "data": {
      "image/png": "[encoded data removed]",
      "text/plain": [
       "<matplotlib.figure.Figure at 0x19056bf9400>"
      ]
     },
     "metadata": {},
     "output_type": "display_data"
    }
   ],
   "source": [
    "\n",
    "label = or_df.index\n",
    "lgd = ['R_outer', 'R_inner']\n",
    "plt.errorbar([1,2,3], or_df['Avg Rout(micron)'], or_df['Std Rout(micron)'],\n",
    "            marker='s', mew=7, ls='dashed', barsabove=True, label ='R_out')\n",
    "plt.errorbar([1,2,3], ir_df['Avg Rin(micron)'], ir_df['Std Rin(micron)'],\n",
    "            marker='o', ls='dotted', barsabove=True, label = 'R_in')\n",
    "plt.xticks([1,2,3], label)\n",
    "plt.legend(loc='upper center')\n",
    "plt.show()\n"
   ]
  }
 ],
 "metadata": {
  "kernelspec": {
   "display_name": "Python 3",
   "language": "python",
   "name": "python3"
  },
  "language_info": {
   "codemirror_mode": {
    "name": "ipython",
    "version": 3
   },
   "file_extension": ".py",
   "mimetype": "text/x-python",
   "name": "python",
   "nbconvert_exporter": "python",
   "pygments_lexer": "ipython3",
   "version": "3.6.3"
  }
 },
 "nbformat": 4,
 "nbformat_minor": 2
}
